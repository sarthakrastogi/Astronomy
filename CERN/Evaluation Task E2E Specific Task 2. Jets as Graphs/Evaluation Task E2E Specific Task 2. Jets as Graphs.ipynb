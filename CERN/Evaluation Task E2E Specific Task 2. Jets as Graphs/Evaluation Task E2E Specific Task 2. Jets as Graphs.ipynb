{
 "cells": [
  {
   "cell_type": "markdown",
   "metadata": {},
   "source": [
    "Evaluation Test: E2E\n",
    "\n",
    "Specific Task 2. Jets as graphs\n",
    "\n",
    "Submitted by Sarthak Rastogi (thesarthakrastogi@gmail.com)\n",
    "\n",
    "To ML4SCI, CERN"
   ]
  },
  {
   "cell_type": "markdown",
   "metadata": {
    "id": "N1BnNHNKrUQ1"
   },
   "source": [
    "##Dataset\n",
    "\n",
    "Pythia8 Quark and Gluon Jets for Energy Flow\n",
    "\n",
    "(without charm and bottom jets)\n",
    "\n",
    "https://zenodo.org/record/3164691#.YHXOO-gvNID"
   ]
  },
  {
   "cell_type": "code",
   "execution_count": 10,
   "metadata": {
    "executionInfo": {
     "elapsed": 12391,
     "status": "ok",
     "timestamp": 1618386749215,
     "user": {
      "displayName": "Sarthak Rastogi",
      "photoUrl": "https://lh3.googleusercontent.com/a-/AOh14Gju2mNh-CIUs6e_EgYdv7eWpyCq5RUtF0XfW0PgJUM=s64",
      "userId": "13011506269675720653"
     },
     "user_tz": -330
    },
    "id": "1GbGasPxXW3s"
   },
   "outputs": [],
   "source": [
    "!wget -qq \"https://zenodo.org/record/3164691/files/QG_jets.npz\""
   ]
  },
  {
   "cell_type": "code",
   "execution_count": 51,
   "metadata": {
    "colab": {
     "base_uri": "https://localhost:8080/"
    },
    "executionInfo": {
     "elapsed": 909,
     "status": "ok",
     "timestamp": 1618387625879,
     "user": {
      "displayName": "Sarthak Rastogi",
      "photoUrl": "https://lh3.googleusercontent.com/a-/AOh14Gju2mNh-CIUs6e_EgYdv7eWpyCq5RUtF0XfW0PgJUM=s64",
      "userId": "13011506269675720653"
     },
     "user_tz": -330
    },
    "id": "LPDXFp-EnOLo",
    "outputId": "0f15c0de-161c-41dc-a123-14c91fd6a37d"
   },
   "outputs": [
    {
     "data": {
      "text/plain": [
       "['X', 'y']"
      ]
     },
     "execution_count": 51,
     "metadata": {
      "tags": []
     },
     "output_type": "execute_result"
    }
   ],
   "source": [
    "import numpy as np\n",
    "df = np.load('QG_jets.npz')\n",
    "df.files"
   ]
  },
  {
   "cell_type": "code",
   "execution_count": 12,
   "metadata": {
    "executionInfo": {
     "elapsed": 12372,
     "status": "ok",
     "timestamp": 1618386749219,
     "user": {
      "displayName": "Sarthak Rastogi",
      "photoUrl": "https://lh3.googleusercontent.com/a-/AOh14Gju2mNh-CIUs6e_EgYdv7eWpyCq5RUtF0XfW0PgJUM=s64",
      "userId": "13011506269675720653"
     },
     "user_tz": -330
    },
    "id": "UTOlLSpJXFmY"
   },
   "outputs": [],
   "source": [
    "#Alternatively, using energyflow:\n",
    "#!pip install energyflow\n",
    "#import energyflow\n",
    "#df = energyflow.qg_jets.load(num_data=100000, pad=True, ncol=4, generator='pythia', with_bc=False, cache_dir='~/.energyflow')"
   ]
  },
  {
   "cell_type": "code",
   "execution_count": 52,
   "metadata": {
    "colab": {
     "base_uri": "https://localhost:8080/"
    },
    "executionInfo": {
     "elapsed": 2779,
     "status": "ok",
     "timestamp": 1618387631575,
     "user": {
      "displayName": "Sarthak Rastogi",
      "photoUrl": "https://lh3.googleusercontent.com/a-/AOh14Gju2mNh-CIUs6e_EgYdv7eWpyCq5RUtF0XfW0PgJUM=s64",
      "userId": "13011506269675720653"
     },
     "user_tz": -330
    },
    "id": "avaI4GGibFB3",
    "outputId": "7556d9b3-f2b0-4141-f5e1-a28e49d8d0a0"
   },
   "outputs": [
    {
     "data": {
      "text/plain": [
       "(100000, 139, 4)"
      ]
     },
     "execution_count": 52,
     "metadata": {
      "tags": []
     },
     "output_type": "execute_result"
    }
   ],
   "source": [
    "X = df['X']\n",
    "X.shape"
   ]
  },
  {
   "cell_type": "code",
   "execution_count": 53,
   "metadata": {
    "colab": {
     "base_uri": "https://localhost:8080/"
    },
    "executionInfo": {
     "elapsed": 2435,
     "status": "ok",
     "timestamp": 1618387631576,
     "user": {
      "displayName": "Sarthak Rastogi",
      "photoUrl": "https://lh3.googleusercontent.com/a-/AOh14Gju2mNh-CIUs6e_EgYdv7eWpyCq5RUtF0XfW0PgJUM=s64",
      "userId": "13011506269675720653"
     },
     "user_tz": -330
    },
    "id": "wqKdXmqXbIGC",
    "outputId": "50b328c1-c4a0-426e-f821-5add13f10335"
   },
   "outputs": [
    {
     "data": {
      "text/plain": [
       "(100000,)"
      ]
     },
     "execution_count": 53,
     "metadata": {
      "tags": []
     },
     "output_type": "execute_result"
    }
   ],
   "source": [
    "y = df['y']\n",
    "y.shape"
   ]
  },
  {
   "cell_type": "markdown",
   "metadata": {
    "id": "L6QvmYwPq4Y7"
   },
   "source": [
    "Loading the dataset from a numpy array into a Pandas dataframe:"
   ]
  },
  {
   "cell_type": "code",
   "execution_count": 54,
   "metadata": {
    "executionInfo": {
     "elapsed": 936,
     "status": "ok",
     "timestamp": 1618387631577,
     "user": {
      "displayName": "Sarthak Rastogi",
      "photoUrl": "https://lh3.googleusercontent.com/a-/AOh14Gju2mNh-CIUs6e_EgYdv7eWpyCq5RUtF0XfW0PgJUM=s64",
      "userId": "13011506269675720653"
     },
     "user_tz": -330
    },
    "id": "6S0y3V1lTWH_"
   },
   "outputs": [],
   "source": [
    "X1 = []\n",
    "for i in X:\n",
    "  X1.append(i[0])"
   ]
  },
  {
   "cell_type": "code",
   "execution_count": 55,
   "metadata": {
    "colab": {
     "base_uri": "https://localhost:8080/",
     "height": 195
    },
    "executionInfo": {
     "elapsed": 1696,
     "status": "ok",
     "timestamp": 1618387633071,
     "user": {
      "displayName": "Sarthak Rastogi",
      "photoUrl": "https://lh3.googleusercontent.com/a-/AOh14Gju2mNh-CIUs6e_EgYdv7eWpyCq5RUtF0XfW0PgJUM=s64",
      "userId": "13011506269675720653"
     },
     "user_tz": -330
    },
    "id": "J081CbTLTWFs",
    "outputId": "7ebc833b-42a3-476e-8102-526c2d3161d1"
   },
   "outputs": [
    {
     "data": {
      "text/html": [
       "<div>\n",
       "<style scoped>\n",
       "    .dataframe tbody tr th:only-of-type {\n",
       "        vertical-align: middle;\n",
       "    }\n",
       "\n",
       "    .dataframe tbody tr th {\n",
       "        vertical-align: top;\n",
       "    }\n",
       "\n",
       "    .dataframe thead th {\n",
       "        text-align: right;\n",
       "    }\n",
       "</style>\n",
       "<table border=\"1\" class=\"dataframe\">\n",
       "  <thead>\n",
       "    <tr style=\"text-align: right;\">\n",
       "      <th></th>\n",
       "      <th>0</th>\n",
       "      <th>1</th>\n",
       "      <th>2</th>\n",
       "      <th>3</th>\n",
       "      <th>y</th>\n",
       "    </tr>\n",
       "  </thead>\n",
       "  <tbody>\n",
       "    <tr>\n",
       "      <th>0</th>\n",
       "      <td>0.268769</td>\n",
       "      <td>0.356903</td>\n",
       "      <td>4.741387</td>\n",
       "      <td>22.0</td>\n",
       "      <td>1.0</td>\n",
       "    </tr>\n",
       "    <tr>\n",
       "      <th>1</th>\n",
       "      <td>1.212663</td>\n",
       "      <td>-0.112853</td>\n",
       "      <td>3.047088</td>\n",
       "      <td>-211.0</td>\n",
       "      <td>1.0</td>\n",
       "    </tr>\n",
       "    <tr>\n",
       "      <th>2</th>\n",
       "      <td>0.216829</td>\n",
       "      <td>-0.997057</td>\n",
       "      <td>0.532569</td>\n",
       "      <td>22.0</td>\n",
       "      <td>1.0</td>\n",
       "    </tr>\n",
       "    <tr>\n",
       "      <th>3</th>\n",
       "      <td>0.413806</td>\n",
       "      <td>0.956889</td>\n",
       "      <td>5.742566</td>\n",
       "      <td>211.0</td>\n",
       "      <td>1.0</td>\n",
       "    </tr>\n",
       "    <tr>\n",
       "      <th>4</th>\n",
       "      <td>0.476434</td>\n",
       "      <td>-0.403307</td>\n",
       "      <td>4.126747</td>\n",
       "      <td>22.0</td>\n",
       "      <td>1.0</td>\n",
       "    </tr>\n",
       "  </tbody>\n",
       "</table>\n",
       "</div>"
      ],
      "text/plain": [
       "          0         1         2      3    y\n",
       "0  0.268769  0.356903  4.741387   22.0  1.0\n",
       "1  1.212663 -0.112853  3.047088 -211.0  1.0\n",
       "2  0.216829 -0.997057  0.532569   22.0  1.0\n",
       "3  0.413806  0.956889  5.742566  211.0  1.0\n",
       "4  0.476434 -0.403307  4.126747   22.0  1.0"
      ]
     },
     "execution_count": 55,
     "metadata": {
      "tags": []
     },
     "output_type": "execute_result"
    }
   ],
   "source": [
    "import pandas as pd\n",
    "X = pd.DataFrame(X1)\n",
    "y = pd.DataFrame(y, columns=['y'])\n",
    "X['y'] = y\n",
    "X = X[:50000]\n",
    "X.head()"
   ]
  },
  {
   "cell_type": "code",
   "execution_count": 56,
   "metadata": {
    "executionInfo": {
     "elapsed": 1317,
     "status": "ok",
     "timestamp": 1618387637609,
     "user": {
      "displayName": "Sarthak Rastogi",
      "photoUrl": "https://lh3.googleusercontent.com/a-/AOh14Gju2mNh-CIUs6e_EgYdv7eWpyCq5RUtF0XfW0PgJUM=s64",
      "userId": "13011506269675720653"
     },
     "user_tz": -330
    },
    "id": "dWSlrk3coD7A"
   },
   "outputs": [],
   "source": [
    "y = X[\"y\"]\n",
    "X = X.drop([\"y\"], axis=1)\n",
    "\n",
    "from sklearn.model_selection import train_test_split\n",
    "X_train, X_test, y_train, y_test = train_test_split(X, y, test_size=0.30)"
   ]
  },
  {
   "cell_type": "markdown",
   "metadata": {
    "id": "LxfiE0C6Mz0y"
   },
   "source": [
    "**Provide a description on what considerations you have taken to\n",
    "project this point-cloud dataset to a set of interconnected nodes and edges.**"
   ]
  },
  {
   "cell_type": "markdown",
   "metadata": {
    "id": "ovAGDVfjM2ag"
   },
   "source": [
    "For every data point, we need to collect the set of neighbour data points form the graph, and that depends on the noiose level we have. In this dataset I found a moderate to low amount of noise so it was safe to collect the direct neighbours of the data points."
   ]
  },
  {
   "cell_type": "markdown",
   "metadata": {
    "id": "s_mT_Vetd2Z2"
   },
   "source": [
    "#Creating the graph"
   ]
  },
  {
   "cell_type": "code",
   "execution_count": 18,
   "metadata": {
    "colab": {
     "base_uri": "https://localhost:8080/"
    },
    "executionInfo": {
     "elapsed": 18091,
     "status": "ok",
     "timestamp": 1618386755011,
     "user": {
      "displayName": "Sarthak Rastogi",
      "photoUrl": "https://lh3.googleusercontent.com/a-/AOh14Gju2mNh-CIUs6e_EgYdv7eWpyCq5RUtF0XfW0PgJUM=s64",
      "userId": "13011506269675720653"
     },
     "user_tz": -330
    },
    "id": "KUkC1-5Pezbh",
    "outputId": "67651f26-3d26-47a0-b92b-8f4621099021"
   },
   "outputs": [
    {
     "name": "stdout",
     "output_type": "stream",
     "text": [
      "Collecting dgl==0.4.3\n",
      "\u001b[?25l  Downloading https://files.pythonhosted.org/packages/3f/9e/7757847d45eb20cf96fe649dc3bfed97550ee25909a679a3ea404da5e92d/dgl-0.4.3-cp37-cp37m-manylinux1_x86_64.whl (3.0MB)\n",
      "\r",
      "\u001b[K     |                                | 10kB 26.4MB/s eta 0:00:01\r",
      "\u001b[K     |▏                               | 20kB 32.7MB/s eta 0:00:01\r",
      "\u001b[K     |▎                               | 30kB 21.1MB/s eta 0:00:01\r",
      "\u001b[K     |▍                               | 40kB 24.3MB/s eta 0:00:01\r",
      "\u001b[K     |▌                               | 51kB 24.5MB/s eta 0:00:01\r",
      "\u001b[K     |▋                               | 61kB 26.9MB/s eta 0:00:01\r",
      "\u001b[K     |▊                               | 71kB 18.7MB/s eta 0:00:01\r",
      "\u001b[K     |▉                               | 81kB 19.9MB/s eta 0:00:01\r",
      "\u001b[K     |█                               | 92kB 19.0MB/s eta 0:00:01\r",
      "\u001b[K     |█                               | 102kB 20.4MB/s eta 0:00:01\r",
      "\u001b[K     |█▏                              | 112kB 20.4MB/s eta 0:00:01\r",
      "\u001b[K     |█▎                              | 122kB 20.4MB/s eta 0:00:01\r",
      "\u001b[K     |█▍                              | 133kB 20.4MB/s eta 0:00:01\r",
      "\u001b[K     |█▌                              | 143kB 20.4MB/s eta 0:00:01\r",
      "\u001b[K     |█▋                              | 153kB 20.4MB/s eta 0:00:01\r",
      "\u001b[K     |█▊                              | 163kB 20.4MB/s eta 0:00:01\r",
      "\u001b[K     |█▉                              | 174kB 20.4MB/s eta 0:00:01\r",
      "\u001b[K     |██                              | 184kB 20.4MB/s eta 0:00:01\r",
      "\u001b[K     |██                              | 194kB 20.4MB/s eta 0:00:01\r",
      "\u001b[K     |██▏                             | 204kB 20.4MB/s eta 0:00:01\r",
      "\u001b[K     |██▎                             | 215kB 20.4MB/s eta 0:00:01\r",
      "\u001b[K     |██▍                             | 225kB 20.4MB/s eta 0:00:01\r",
      "\u001b[K     |██▌                             | 235kB 20.4MB/s eta 0:00:01\r",
      "\u001b[K     |██▋                             | 245kB 20.4MB/s eta 0:00:01\r",
      "\u001b[K     |██▊                             | 256kB 20.4MB/s eta 0:00:01\r",
      "\u001b[K     |██▉                             | 266kB 20.4MB/s eta 0:00:01\r",
      "\u001b[K     |███                             | 276kB 20.4MB/s eta 0:00:01\r",
      "\u001b[K     |███                             | 286kB 20.4MB/s eta 0:00:01\r",
      "\u001b[K     |███▏                            | 296kB 20.4MB/s eta 0:00:01\r",
      "\u001b[K     |███▎                            | 307kB 20.4MB/s eta 0:00:01\r",
      "\u001b[K     |███▍                            | 317kB 20.4MB/s eta 0:00:01\r",
      "\u001b[K     |███▌                            | 327kB 20.4MB/s eta 0:00:01\r",
      "\u001b[K     |███▋                            | 337kB 20.4MB/s eta 0:00:01\r",
      "\u001b[K     |███▊                            | 348kB 20.4MB/s eta 0:00:01\r",
      "\u001b[K     |███▉                            | 358kB 20.4MB/s eta 0:00:01\r",
      "\u001b[K     |████                            | 368kB 20.4MB/s eta 0:00:01\r",
      "\u001b[K     |████                            | 378kB 20.4MB/s eta 0:00:01\r",
      "\u001b[K     |████▏                           | 389kB 20.4MB/s eta 0:00:01\r",
      "\u001b[K     |████▎                           | 399kB 20.4MB/s eta 0:00:01\r",
      "\u001b[K     |████▍                           | 409kB 20.4MB/s eta 0:00:01\r",
      "\u001b[K     |████▌                           | 419kB 20.4MB/s eta 0:00:01\r",
      "\u001b[K     |████▋                           | 430kB 20.4MB/s eta 0:00:01\r",
      "\u001b[K     |████▊                           | 440kB 20.4MB/s eta 0:00:01\r",
      "\u001b[K     |████▉                           | 450kB 20.4MB/s eta 0:00:01\r",
      "\u001b[K     |█████                           | 460kB 20.4MB/s eta 0:00:01\r",
      "\u001b[K     |█████                           | 471kB 20.4MB/s eta 0:00:01\r",
      "\u001b[K     |█████▏                          | 481kB 20.4MB/s eta 0:00:01\r",
      "\u001b[K     |█████▎                          | 491kB 20.4MB/s eta 0:00:01\r",
      "\u001b[K     |█████▍                          | 501kB 20.4MB/s eta 0:00:01\r",
      "\u001b[K     |█████▌                          | 512kB 20.4MB/s eta 0:00:01\r",
      "\u001b[K     |█████▋                          | 522kB 20.4MB/s eta 0:00:01\r",
      "\u001b[K     |█████▊                          | 532kB 20.4MB/s eta 0:00:01\r",
      "\u001b[K     |█████▉                          | 542kB 20.4MB/s eta 0:00:01\r",
      "\u001b[K     |██████                          | 552kB 20.4MB/s eta 0:00:01\r",
      "\u001b[K     |██████                          | 563kB 20.4MB/s eta 0:00:01\r",
      "\u001b[K     |██████▏                         | 573kB 20.4MB/s eta 0:00:01\r",
      "\u001b[K     |██████▎                         | 583kB 20.4MB/s eta 0:00:01\r",
      "\u001b[K     |██████▍                         | 593kB 20.4MB/s eta 0:00:01\r",
      "\u001b[K     |██████▌                         | 604kB 20.4MB/s eta 0:00:01\r",
      "\u001b[K     |██████▋                         | 614kB 20.4MB/s eta 0:00:01\r",
      "\u001b[K     |██████▊                         | 624kB 20.4MB/s eta 0:00:01\r",
      "\u001b[K     |██████▉                         | 634kB 20.4MB/s eta 0:00:01\r",
      "\u001b[K     |███████                         | 645kB 20.4MB/s eta 0:00:01\r",
      "\u001b[K     |███████                         | 655kB 20.4MB/s eta 0:00:01\r",
      "\u001b[K     |███████▏                        | 665kB 20.4MB/s eta 0:00:01\r",
      "\u001b[K     |███████▎                        | 675kB 20.4MB/s eta 0:00:01\r",
      "\u001b[K     |███████▍                        | 686kB 20.4MB/s eta 0:00:01\r",
      "\u001b[K     |███████▌                        | 696kB 20.4MB/s eta 0:00:01\r",
      "\u001b[K     |███████▋                        | 706kB 20.4MB/s eta 0:00:01\r",
      "\u001b[K     |███████▊                        | 716kB 20.4MB/s eta 0:00:01\r",
      "\u001b[K     |███████▉                        | 727kB 20.4MB/s eta 0:00:01\r",
      "\u001b[K     |████████                        | 737kB 20.4MB/s eta 0:00:01\r",
      "\u001b[K     |████████                        | 747kB 20.4MB/s eta 0:00:01\r",
      "\u001b[K     |████████▏                       | 757kB 20.4MB/s eta 0:00:01\r",
      "\u001b[K     |████████▎                       | 768kB 20.4MB/s eta 0:00:01\r",
      "\u001b[K     |████████▍                       | 778kB 20.4MB/s eta 0:00:01\r",
      "\u001b[K     |████████▌                       | 788kB 20.4MB/s eta 0:00:01\r",
      "\u001b[K     |████████▋                       | 798kB 20.4MB/s eta 0:00:01\r",
      "\u001b[K     |████████▊                       | 808kB 20.4MB/s eta 0:00:01\r",
      "\u001b[K     |████████▉                       | 819kB 20.4MB/s eta 0:00:01\r",
      "\u001b[K     |█████████                       | 829kB 20.4MB/s eta 0:00:01\r",
      "\u001b[K     |█████████                       | 839kB 20.4MB/s eta 0:00:01\r",
      "\u001b[K     |█████████▏                      | 849kB 20.4MB/s eta 0:00:01\r",
      "\u001b[K     |█████████▎                      | 860kB 20.4MB/s eta 0:00:01\r",
      "\u001b[K     |█████████▍                      | 870kB 20.4MB/s eta 0:00:01\r",
      "\u001b[K     |█████████▌                      | 880kB 20.4MB/s eta 0:00:01\r",
      "\u001b[K     |█████████▋                      | 890kB 20.4MB/s eta 0:00:01\r",
      "\u001b[K     |█████████▊                      | 901kB 20.4MB/s eta 0:00:01\r",
      "\u001b[K     |█████████▉                      | 911kB 20.4MB/s eta 0:00:01\r",
      "\u001b[K     |██████████                      | 921kB 20.4MB/s eta 0:00:01\r",
      "\u001b[K     |██████████                      | 931kB 20.4MB/s eta 0:00:01\r",
      "\u001b[K     |██████████▏                     | 942kB 20.4MB/s eta 0:00:01\r",
      "\u001b[K     |██████████▎                     | 952kB 20.4MB/s eta 0:00:01\r",
      "\u001b[K     |██████████▍                     | 962kB 20.4MB/s eta 0:00:01\r",
      "\u001b[K     |██████████▌                     | 972kB 20.4MB/s eta 0:00:01\r",
      "\u001b[K     |██████████▋                     | 983kB 20.4MB/s eta 0:00:01\r",
      "\u001b[K     |██████████▊                     | 993kB 20.4MB/s eta 0:00:01\r",
      "\u001b[K     |██████████▉                     | 1.0MB 20.4MB/s eta 0:00:01\r",
      "\u001b[K     |███████████                     | 1.0MB 20.4MB/s eta 0:00:01\r",
      "\u001b[K     |███████████                     | 1.0MB 20.4MB/s eta 0:00:01\r",
      "\u001b[K     |███████████▏                    | 1.0MB 20.4MB/s eta 0:00:01\r",
      "\u001b[K     |███████████▎                    | 1.0MB 20.4MB/s eta 0:00:01\r",
      "\u001b[K     |███████████▍                    | 1.1MB 20.4MB/s eta 0:00:01\r",
      "\u001b[K     |███████████▌                    | 1.1MB 20.4MB/s eta 0:00:01\r",
      "\u001b[K     |███████████▋                    | 1.1MB 20.4MB/s eta 0:00:01\r",
      "\u001b[K     |███████████▊                    | 1.1MB 20.4MB/s eta 0:00:01\r",
      "\u001b[K     |███████████▉                    | 1.1MB 20.4MB/s eta 0:00:01\r",
      "\u001b[K     |████████████                    | 1.1MB 20.4MB/s eta 0:00:01\r",
      "\u001b[K     |████████████                    | 1.1MB 20.4MB/s eta 0:00:01\r",
      "\u001b[K     |████████████▏                   | 1.1MB 20.4MB/s eta 0:00:01\r",
      "\u001b[K     |████████████▎                   | 1.1MB 20.4MB/s eta 0:00:01\r",
      "\u001b[K     |████████████▍                   | 1.1MB 20.4MB/s eta 0:00:01\r",
      "\u001b[K     |████████████▌                   | 1.2MB 20.4MB/s eta 0:00:01\r",
      "\u001b[K     |████████████▋                   | 1.2MB 20.4MB/s eta 0:00:01\r",
      "\u001b[K     |████████████▊                   | 1.2MB 20.4MB/s eta 0:00:01\r",
      "\u001b[K     |████████████▉                   | 1.2MB 20.4MB/s eta 0:00:01\r",
      "\u001b[K     |█████████████                   | 1.2MB 20.4MB/s eta 0:00:01\r",
      "\u001b[K     |█████████████                   | 1.2MB 20.4MB/s eta 0:00:01\r",
      "\u001b[K     |█████████████▏                  | 1.2MB 20.4MB/s eta 0:00:01\r",
      "\u001b[K     |█████████████▎                  | 1.2MB 20.4MB/s eta 0:00:01\r",
      "\u001b[K     |█████████████▍                  | 1.2MB 20.4MB/s eta 0:00:01\r",
      "\u001b[K     |█████████████▌                  | 1.2MB 20.4MB/s eta 0:00:01\r",
      "\u001b[K     |█████████████▋                  | 1.3MB 20.4MB/s eta 0:00:01\r",
      "\u001b[K     |█████████████▊                  | 1.3MB 20.4MB/s eta 0:00:01\r",
      "\u001b[K     |█████████████▉                  | 1.3MB 20.4MB/s eta 0:00:01\r",
      "\u001b[K     |██████████████                  | 1.3MB 20.4MB/s eta 0:00:01\r",
      "\u001b[K     |██████████████                  | 1.3MB 20.4MB/s eta 0:00:01\r",
      "\u001b[K     |██████████████▏                 | 1.3MB 20.4MB/s eta 0:00:01\r",
      "\u001b[K     |██████████████▎                 | 1.3MB 20.4MB/s eta 0:00:01\r",
      "\u001b[K     |██████████████▍                 | 1.3MB 20.4MB/s eta 0:00:01\r",
      "\u001b[K     |██████████████▌                 | 1.3MB 20.4MB/s eta 0:00:01\r",
      "\u001b[K     |██████████████▋                 | 1.4MB 20.4MB/s eta 0:00:01\r",
      "\u001b[K     |██████████████▊                 | 1.4MB 20.4MB/s eta 0:00:01\r",
      "\u001b[K     |██████████████▉                 | 1.4MB 20.4MB/s eta 0:00:01\r",
      "\u001b[K     |███████████████                 | 1.4MB 20.4MB/s eta 0:00:01\r",
      "\u001b[K     |███████████████                 | 1.4MB 20.4MB/s eta 0:00:01\r",
      "\u001b[K     |███████████████▏                | 1.4MB 20.4MB/s eta 0:00:01\r",
      "\u001b[K     |███████████████▎                | 1.4MB 20.4MB/s eta 0:00:01\r",
      "\u001b[K     |███████████████▍                | 1.4MB 20.4MB/s eta 0:00:01\r",
      "\u001b[K     |███████████████▌                | 1.4MB 20.4MB/s eta 0:00:01\r",
      "\u001b[K     |███████████████▋                | 1.4MB 20.4MB/s eta 0:00:01\r",
      "\u001b[K     |███████████████▊                | 1.5MB 20.4MB/s eta 0:00:01\r",
      "\u001b[K     |███████████████▉                | 1.5MB 20.4MB/s eta 0:00:01\r",
      "\u001b[K     |████████████████                | 1.5MB 20.4MB/s eta 0:00:01\r",
      "\u001b[K     |████████████████                | 1.5MB 20.4MB/s eta 0:00:01\r",
      "\u001b[K     |████████████████▏               | 1.5MB 20.4MB/s eta 0:00:01\r",
      "\u001b[K     |████████████████▎               | 1.5MB 20.4MB/s eta 0:00:01\r",
      "\u001b[K     |████████████████▍               | 1.5MB 20.4MB/s eta 0:00:01\r",
      "\u001b[K     |████████████████▌               | 1.5MB 20.4MB/s eta 0:00:01\r",
      "\u001b[K     |████████████████▋               | 1.5MB 20.4MB/s eta 0:00:01\r",
      "\u001b[K     |████████████████▊               | 1.5MB 20.4MB/s eta 0:00:01\r",
      "\u001b[K     |████████████████▉               | 1.6MB 20.4MB/s eta 0:00:01\r",
      "\u001b[K     |█████████████████               | 1.6MB 20.4MB/s eta 0:00:01\r",
      "\u001b[K     |█████████████████               | 1.6MB 20.4MB/s eta 0:00:01\r",
      "\u001b[K     |█████████████████▏              | 1.6MB 20.4MB/s eta 0:00:01\r",
      "\u001b[K     |█████████████████▏              | 1.6MB 20.4MB/s eta 0:00:01\r",
      "\u001b[K     |█████████████████▎              | 1.6MB 20.4MB/s eta 0:00:01\r",
      "\u001b[K     |█████████████████▍              | 1.6MB 20.4MB/s eta 0:00:01\r",
      "\u001b[K     |█████████████████▌              | 1.6MB 20.4MB/s eta 0:00:01\r",
      "\u001b[K     |█████████████████▋              | 1.6MB 20.4MB/s eta 0:00:01\r",
      "\u001b[K     |█████████████████▊              | 1.6MB 20.4MB/s eta 0:00:01\r",
      "\u001b[K     |█████████████████▉              | 1.7MB 20.4MB/s eta 0:00:01\r",
      "\u001b[K     |██████████████████              | 1.7MB 20.4MB/s eta 0:00:01\r",
      "\u001b[K     |██████████████████              | 1.7MB 20.4MB/s eta 0:00:01\r",
      "\u001b[K     |██████████████████▏             | 1.7MB 20.4MB/s eta 0:00:01\r",
      "\u001b[K     |██████████████████▎             | 1.7MB 20.4MB/s eta 0:00:01\r",
      "\u001b[K     |██████████████████▍             | 1.7MB 20.4MB/s eta 0:00:01\r",
      "\u001b[K     |██████████████████▌             | 1.7MB 20.4MB/s eta 0:00:01\r",
      "\u001b[K     |██████████████████▋             | 1.7MB 20.4MB/s eta 0:00:01\r",
      "\u001b[K     |██████████████████▊             | 1.7MB 20.4MB/s eta 0:00:01\r",
      "\u001b[K     |██████████████████▉             | 1.8MB 20.4MB/s eta 0:00:01\r",
      "\u001b[K     |███████████████████             | 1.8MB 20.4MB/s eta 0:00:01\r",
      "\u001b[K     |███████████████████             | 1.8MB 20.4MB/s eta 0:00:01\r",
      "\u001b[K     |███████████████████▏            | 1.8MB 20.4MB/s eta 0:00:01\r",
      "\u001b[K     |███████████████████▎            | 1.8MB 20.4MB/s eta 0:00:01\r",
      "\u001b[K     |███████████████████▍            | 1.8MB 20.4MB/s eta 0:00:01\r",
      "\u001b[K     |███████████████████▌            | 1.8MB 20.4MB/s eta 0:00:01\r",
      "\u001b[K     |███████████████████▋            | 1.8MB 20.4MB/s eta 0:00:01\r",
      "\u001b[K     |███████████████████▊            | 1.8MB 20.4MB/s eta 0:00:01\r",
      "\u001b[K     |███████████████████▉            | 1.8MB 20.4MB/s eta 0:00:01\r",
      "\u001b[K     |████████████████████            | 1.9MB 20.4MB/s eta 0:00:01\r",
      "\u001b[K     |████████████████████            | 1.9MB 20.4MB/s eta 0:00:01\r",
      "\u001b[K     |████████████████████▏           | 1.9MB 20.4MB/s eta 0:00:01\r",
      "\u001b[K     |████████████████████▎           | 1.9MB 20.4MB/s eta 0:00:01\r",
      "\u001b[K     |████████████████████▍           | 1.9MB 20.4MB/s eta 0:00:01\r",
      "\u001b[K     |████████████████████▌           | 1.9MB 20.4MB/s eta 0:00:01\r",
      "\u001b[K     |████████████████████▋           | 1.9MB 20.4MB/s eta 0:00:01\r",
      "\u001b[K     |████████████████████▊           | 1.9MB 20.4MB/s eta 0:00:01\r",
      "\u001b[K     |████████████████████▉           | 1.9MB 20.4MB/s eta 0:00:01\r",
      "\u001b[K     |█████████████████████           | 1.9MB 20.4MB/s eta 0:00:01\r",
      "\u001b[K     |█████████████████████           | 2.0MB 20.4MB/s eta 0:00:01\r",
      "\u001b[K     |█████████████████████▏          | 2.0MB 20.4MB/s eta 0:00:01\r",
      "\u001b[K     |█████████████████████▎          | 2.0MB 20.4MB/s eta 0:00:01\r",
      "\u001b[K     |█████████████████████▍          | 2.0MB 20.4MB/s eta 0:00:01\r",
      "\u001b[K     |█████████████████████▌          | 2.0MB 20.4MB/s eta 0:00:01\r",
      "\u001b[K     |█████████████████████▋          | 2.0MB 20.4MB/s eta 0:00:01\r",
      "\u001b[K     |█████████████████████▊          | 2.0MB 20.4MB/s eta 0:00:01\r",
      "\u001b[K     |█████████████████████▉          | 2.0MB 20.4MB/s eta 0:00:01\r",
      "\u001b[K     |██████████████████████          | 2.0MB 20.4MB/s eta 0:00:01\r",
      "\u001b[K     |██████████████████████          | 2.0MB 20.4MB/s eta 0:00:01\r",
      "\u001b[K     |██████████████████████▏         | 2.1MB 20.4MB/s eta 0:00:01\r",
      "\u001b[K     |██████████████████████▎         | 2.1MB 20.4MB/s eta 0:00:01\r",
      "\u001b[K     |██████████████████████▍         | 2.1MB 20.4MB/s eta 0:00:01\r",
      "\u001b[K     |██████████████████████▌         | 2.1MB 20.4MB/s eta 0:00:01\r",
      "\u001b[K     |██████████████████████▋         | 2.1MB 20.4MB/s eta 0:00:01\r",
      "\u001b[K     |██████████████████████▊         | 2.1MB 20.4MB/s eta 0:00:01\r",
      "\u001b[K     |██████████████████████▉         | 2.1MB 20.4MB/s eta 0:00:01\r",
      "\u001b[K     |███████████████████████         | 2.1MB 20.4MB/s eta 0:00:01\r",
      "\u001b[K     |███████████████████████         | 2.1MB 20.4MB/s eta 0:00:01\r",
      "\u001b[K     |███████████████████████▏        | 2.2MB 20.4MB/s eta 0:00:01\r",
      "\u001b[K     |███████████████████████▎        | 2.2MB 20.4MB/s eta 0:00:01\r",
      "\u001b[K     |███████████████████████▍        | 2.2MB 20.4MB/s eta 0:00:01\r",
      "\u001b[K     |███████████████████████▌        | 2.2MB 20.4MB/s eta 0:00:01\r",
      "\u001b[K     |███████████████████████▋        | 2.2MB 20.4MB/s eta 0:00:01\r",
      "\u001b[K     |███████████████████████▊        | 2.2MB 20.4MB/s eta 0:00:01\r",
      "\u001b[K     |███████████████████████▉        | 2.2MB 20.4MB/s eta 0:00:01\r",
      "\u001b[K     |████████████████████████        | 2.2MB 20.4MB/s eta 0:00:01\r",
      "\u001b[K     |████████████████████████        | 2.2MB 20.4MB/s eta 0:00:01\r",
      "\u001b[K     |████████████████████████▏       | 2.2MB 20.4MB/s eta 0:00:01\r",
      "\u001b[K     |████████████████████████▎       | 2.3MB 20.4MB/s eta 0:00:01\r",
      "\u001b[K     |████████████████████████▍       | 2.3MB 20.4MB/s eta 0:00:01\r",
      "\u001b[K     |████████████████████████▌       | 2.3MB 20.4MB/s eta 0:00:01\r",
      "\u001b[K     |████████████████████████▋       | 2.3MB 20.4MB/s eta 0:00:01\r",
      "\u001b[K     |████████████████████████▊       | 2.3MB 20.4MB/s eta 0:00:01\r",
      "\u001b[K     |████████████████████████▉       | 2.3MB 20.4MB/s eta 0:00:01\r",
      "\u001b[K     |█████████████████████████       | 2.3MB 20.4MB/s eta 0:00:01\r",
      "\u001b[K     |█████████████████████████       | 2.3MB 20.4MB/s eta 0:00:01\r",
      "\u001b[K     |█████████████████████████▏      | 2.3MB 20.4MB/s eta 0:00:01\r",
      "\u001b[K     |█████████████████████████▎      | 2.3MB 20.4MB/s eta 0:00:01\r",
      "\u001b[K     |█████████████████████████▍      | 2.4MB 20.4MB/s eta 0:00:01\r",
      "\u001b[K     |█████████████████████████▌      | 2.4MB 20.4MB/s eta 0:00:01\r",
      "\u001b[K     |█████████████████████████▋      | 2.4MB 20.4MB/s eta 0:00:01\r",
      "\u001b[K     |█████████████████████████▊      | 2.4MB 20.4MB/s eta 0:00:01\r",
      "\u001b[K     |█████████████████████████▉      | 2.4MB 20.4MB/s eta 0:00:01\r",
      "\u001b[K     |██████████████████████████      | 2.4MB 20.4MB/s eta 0:00:01\r",
      "\u001b[K     |██████████████████████████      | 2.4MB 20.4MB/s eta 0:00:01\r",
      "\u001b[K     |██████████████████████████▏     | 2.4MB 20.4MB/s eta 0:00:01\r",
      "\u001b[K     |██████████████████████████▎     | 2.4MB 20.4MB/s eta 0:00:01\r",
      "\u001b[K     |██████████████████████████▍     | 2.4MB 20.4MB/s eta 0:00:01\r",
      "\u001b[K     |██████████████████████████▌     | 2.5MB 20.4MB/s eta 0:00:01\r",
      "\u001b[K     |██████████████████████████▋     | 2.5MB 20.4MB/s eta 0:00:01\r",
      "\u001b[K     |██████████████████████████▊     | 2.5MB 20.4MB/s eta 0:00:01\r",
      "\u001b[K     |██████████████████████████▉     | 2.5MB 20.4MB/s eta 0:00:01\r",
      "\u001b[K     |███████████████████████████     | 2.5MB 20.4MB/s eta 0:00:01\r",
      "\u001b[K     |███████████████████████████     | 2.5MB 20.4MB/s eta 0:00:01\r",
      "\u001b[K     |███████████████████████████▏    | 2.5MB 20.4MB/s eta 0:00:01\r",
      "\u001b[K     |███████████████████████████▎    | 2.5MB 20.4MB/s eta 0:00:01\r",
      "\u001b[K     |███████████████████████████▍    | 2.5MB 20.4MB/s eta 0:00:01\r",
      "\u001b[K     |███████████████████████████▌    | 2.5MB 20.4MB/s eta 0:00:01\r",
      "\u001b[K     |███████████████████████████▋    | 2.6MB 20.4MB/s eta 0:00:01\r",
      "\u001b[K     |███████████████████████████▊    | 2.6MB 20.4MB/s eta 0:00:01\r",
      "\u001b[K     |███████████████████████████▉    | 2.6MB 20.4MB/s eta 0:00:01\r",
      "\u001b[K     |████████████████████████████    | 2.6MB 20.4MB/s eta 0:00:01\r",
      "\u001b[K     |████████████████████████████    | 2.6MB 20.4MB/s eta 0:00:01\r",
      "\u001b[K     |████████████████████████████▏   | 2.6MB 20.4MB/s eta 0:00:01\r",
      "\u001b[K     |████████████████████████████▎   | 2.6MB 20.4MB/s eta 0:00:01\r",
      "\u001b[K     |████████████████████████████▍   | 2.6MB 20.4MB/s eta 0:00:01\r",
      "\u001b[K     |████████████████████████████▌   | 2.6MB 20.4MB/s eta 0:00:01\r",
      "\u001b[K     |████████████████████████████▋   | 2.7MB 20.4MB/s eta 0:00:01\r",
      "\u001b[K     |████████████████████████████▊   | 2.7MB 20.4MB/s eta 0:00:01\r",
      "\u001b[K     |████████████████████████████▉   | 2.7MB 20.4MB/s eta 0:00:01\r",
      "\u001b[K     |█████████████████████████████   | 2.7MB 20.4MB/s eta 0:00:01\r",
      "\u001b[K     |█████████████████████████████   | 2.7MB 20.4MB/s eta 0:00:01\r",
      "\u001b[K     |█████████████████████████████▏  | 2.7MB 20.4MB/s eta 0:00:01\r",
      "\u001b[K     |█████████████████████████████▎  | 2.7MB 20.4MB/s eta 0:00:01\r",
      "\u001b[K     |█████████████████████████████▍  | 2.7MB 20.4MB/s eta 0:00:01\r",
      "\u001b[K     |█████████████████████████████▌  | 2.7MB 20.4MB/s eta 0:00:01\r",
      "\u001b[K     |█████████████████████████████▋  | 2.7MB 20.4MB/s eta 0:00:01\r",
      "\u001b[K     |█████████████████████████████▊  | 2.8MB 20.4MB/s eta 0:00:01\r",
      "\u001b[K     |█████████████████████████████▉  | 2.8MB 20.4MB/s eta 0:00:01\r",
      "\u001b[K     |██████████████████████████████  | 2.8MB 20.4MB/s eta 0:00:01\r",
      "\u001b[K     |██████████████████████████████  | 2.8MB 20.4MB/s eta 0:00:01\r",
      "\u001b[K     |██████████████████████████████▏ | 2.8MB 20.4MB/s eta 0:00:01\r",
      "\u001b[K     |██████████████████████████████▎ | 2.8MB 20.4MB/s eta 0:00:01\r",
      "\u001b[K     |██████████████████████████████▍ | 2.8MB 20.4MB/s eta 0:00:01\r",
      "\u001b[K     |██████████████████████████████▌ | 2.8MB 20.4MB/s eta 0:00:01\r",
      "\u001b[K     |██████████████████████████████▋ | 2.8MB 20.4MB/s eta 0:00:01\r",
      "\u001b[K     |██████████████████████████████▊ | 2.8MB 20.4MB/s eta 0:00:01\r",
      "\u001b[K     |██████████████████████████████▉ | 2.9MB 20.4MB/s eta 0:00:01\r",
      "\u001b[K     |███████████████████████████████ | 2.9MB 20.4MB/s eta 0:00:01\r",
      "\u001b[K     |███████████████████████████████ | 2.9MB 20.4MB/s eta 0:00:01\r",
      "\u001b[K     |███████████████████████████████▏| 2.9MB 20.4MB/s eta 0:00:01\r",
      "\u001b[K     |███████████████████████████████▎| 2.9MB 20.4MB/s eta 0:00:01\r",
      "\u001b[K     |███████████████████████████████▍| 2.9MB 20.4MB/s eta 0:00:01\r",
      "\u001b[K     |███████████████████████████████▌| 2.9MB 20.4MB/s eta 0:00:01\r",
      "\u001b[K     |███████████████████████████████▋| 2.9MB 20.4MB/s eta 0:00:01\r",
      "\u001b[K     |███████████████████████████████▊| 2.9MB 20.4MB/s eta 0:00:01\r",
      "\u001b[K     |███████████████████████████████▉| 2.9MB 20.4MB/s eta 0:00:01\r",
      "\u001b[K     |████████████████████████████████| 3.0MB 20.4MB/s eta 0:00:01\r",
      "\u001b[K     |████████████████████████████████| 3.0MB 20.4MB/s \n",
      "\u001b[?25hRequirement already satisfied: scipy>=1.1.0 in /usr/local/lib/python3.7/dist-packages (from dgl==0.4.3) (1.4.1)\n",
      "Requirement already satisfied: networkx>=2.1 in /usr/local/lib/python3.7/dist-packages (from dgl==0.4.3) (2.5.1)\n",
      "Requirement already satisfied: numpy>=1.14.0 in /usr/local/lib/python3.7/dist-packages (from dgl==0.4.3) (1.19.5)\n",
      "Requirement already satisfied: requests>=2.19.0 in /usr/local/lib/python3.7/dist-packages (from dgl==0.4.3) (2.23.0)\n",
      "Requirement already satisfied: decorator<5,>=4.3 in /usr/local/lib/python3.7/dist-packages (from networkx>=2.1->dgl==0.4.3) (4.4.2)\n",
      "Requirement already satisfied: chardet<4,>=3.0.2 in /usr/local/lib/python3.7/dist-packages (from requests>=2.19.0->dgl==0.4.3) (3.0.4)\n",
      "Requirement already satisfied: certifi>=2017.4.17 in /usr/local/lib/python3.7/dist-packages (from requests>=2.19.0->dgl==0.4.3) (2020.12.5)\n",
      "Requirement already satisfied: idna<3,>=2.5 in /usr/local/lib/python3.7/dist-packages (from requests>=2.19.0->dgl==0.4.3) (2.10)\n",
      "Requirement already satisfied: urllib3!=1.25.0,!=1.25.1,<1.26,>=1.21.1 in /usr/local/lib/python3.7/dist-packages (from requests>=2.19.0->dgl==0.4.3) (1.24.3)\n",
      "Installing collected packages: dgl\n",
      "Successfully installed dgl-0.4.3\n"
     ]
    }
   ],
   "source": [
    "!pip install dgl==0.4.3"
   ]
  },
  {
   "cell_type": "code",
   "execution_count": 57,
   "metadata": {
    "executionInfo": {
     "elapsed": 948,
     "status": "ok",
     "timestamp": 1618387644140,
     "user": {
      "displayName": "Sarthak Rastogi",
      "photoUrl": "https://lh3.googleusercontent.com/a-/AOh14Gju2mNh-CIUs6e_EgYdv7eWpyCq5RUtF0XfW0PgJUM=s64",
      "userId": "13011506269675720653"
     },
     "user_tz": -330
    },
    "id": "O-G7UG_MTVqV"
   },
   "outputs": [],
   "source": [
    "import dgl\n",
    "def create_graph(e):\n",
    "  graph = dgl.DGLGraph()\n",
    "  graph.add_nodes(len(X))\n",
    "\n",
    "  src, dst = tuple(zip(*e))\n",
    "\n",
    "  #defining a bidirectional graph\n",
    "  graph.add_edges(src, dst)\n",
    "  graph.add_edges(dst, src)\n",
    "\n",
    "  return graph"
   ]
  },
  {
   "cell_type": "code",
   "execution_count": 58,
   "metadata": {
    "executionInfo": {
     "elapsed": 654,
     "status": "ok",
     "timestamp": 1618387644756,
     "user": {
      "displayName": "Sarthak Rastogi",
      "photoUrl": "https://lh3.googleusercontent.com/a-/AOh14Gju2mNh-CIUs6e_EgYdv7eWpyCq5RUtF0XfW0PgJUM=s64",
      "userId": "13011506269675720653"
     },
     "user_tz": -330
    },
    "id": "-Fg9E7I3TVnm"
   },
   "outputs": [],
   "source": [
    "edges = []\n",
    "from itertools import combinations\n",
    "import random\n",
    "\n",
    "edges = random.sample(range(1, len(X_train)), int(len(X_train)/30))\n",
    "\n",
    "edges = combinations(edges, 2)"
   ]
  },
  {
   "cell_type": "code",
   "execution_count": 59,
   "metadata": {
    "colab": {
     "base_uri": "https://localhost:8080/"
    },
    "executionInfo": {
     "elapsed": 1093,
     "status": "ok",
     "timestamp": 1618387646413,
     "user": {
      "displayName": "Sarthak Rastogi",
      "photoUrl": "https://lh3.googleusercontent.com/a-/AOh14Gju2mNh-CIUs6e_EgYdv7eWpyCq5RUtF0XfW0PgJUM=s64",
      "userId": "13011506269675720653"
     },
     "user_tz": -330
    },
    "id": "tPFYsnudTVlH",
    "outputId": "27b9a303-c644-4525-b73c-5ecc8d43c135"
   },
   "outputs": [
    {
     "data": {
      "text/plain": [
       "679195"
      ]
     },
     "execution_count": 59,
     "metadata": {
      "tags": []
     },
     "output_type": "execute_result"
    }
   ],
   "source": [
    "edges = list(edges)\n",
    "len(edges)"
   ]
  },
  {
   "cell_type": "code",
   "execution_count": 60,
   "metadata": {
    "colab": {
     "base_uri": "https://localhost:8080/"
    },
    "executionInfo": {
     "elapsed": 2347,
     "status": "ok",
     "timestamp": 1618387648604,
     "user": {
      "displayName": "Sarthak Rastogi",
      "photoUrl": "https://lh3.googleusercontent.com/a-/AOh14Gju2mNh-CIUs6e_EgYdv7eWpyCq5RUtF0XfW0PgJUM=s64",
      "userId": "13011506269675720653"
     },
     "user_tz": -330
    },
    "id": "xnIpd6jBTVin",
    "outputId": "44672b98-ff1e-4439-ebf1-7bc9e0c9c76c"
   },
   "outputs": [
    {
     "name": "stdout",
     "output_type": "stream",
     "text": [
      "DGLGraph(num_nodes=50000, num_edges=1358390,\n",
      "         ndata_schemes={}\n",
      "         edata_schemes={})\n",
      "50000 1358390\n"
     ]
    }
   ],
   "source": [
    "G1 = create_graph(edges)\n",
    "print(G1)\n",
    "print(G1.number_of_nodes(), G1.number_of_edges())"
   ]
  },
  {
   "cell_type": "markdown",
   "metadata": {
    "id": "eJmjYGVngX8F"
   },
   "source": [
    "#Defining model 1"
   ]
  },
  {
   "cell_type": "code",
   "execution_count": 61,
   "metadata": {
    "executionInfo": {
     "elapsed": 1244,
     "status": "ok",
     "timestamp": 1618387651117,
     "user": {
      "displayName": "Sarthak Rastogi",
      "photoUrl": "https://lh3.googleusercontent.com/a-/AOh14Gju2mNh-CIUs6e_EgYdv7eWpyCq5RUtF0XfW0PgJUM=s64",
      "userId": "13011506269675720653"
     },
     "user_tz": -330
    },
    "id": "Ny-6_VedgUsd"
   },
   "outputs": [],
   "source": [
    "import torch\n",
    "import torch.nn as nn\n",
    "import torch.nn.functional as F"
   ]
  },
  {
   "cell_type": "code",
   "execution_count": 62,
   "metadata": {
    "executionInfo": {
     "elapsed": 1466,
     "status": "ok",
     "timestamp": 1618387651694,
     "user": {
      "displayName": "Sarthak Rastogi",
      "photoUrl": "https://lh3.googleusercontent.com/a-/AOh14Gju2mNh-CIUs6e_EgYdv7eWpyCq5RUtF0XfW0PgJUM=s64",
      "userId": "13011506269675720653"
     },
     "user_tz": -330
    },
    "id": "_G7XHMMkgUqc"
   },
   "outputs": [],
   "source": [
    "def message(e):\n",
    "  return {\"message\": e.src[\"h\"]}\n",
    "\n",
    "def reduceg(n):\n",
    "  return {\"h\": torch.sum(n.mailbox[\"message\"], dim=1)}"
   ]
  },
  {
   "cell_type": "code",
   "execution_count": 26,
   "metadata": {
    "executionInfo": {
     "elapsed": 33737,
     "status": "ok",
     "timestamp": 1618386770716,
     "user": {
      "displayName": "Sarthak Rastogi",
      "photoUrl": "https://lh3.googleusercontent.com/a-/AOh14Gju2mNh-CIUs6e_EgYdv7eWpyCq5RUtF0XfW0PgJUM=s64",
      "userId": "13011506269675720653"
     },
     "user_tz": -330
    },
    "id": "Gs0NxZh2gUkC"
   },
   "outputs": [],
   "source": [
    "class GCNLayer(nn.Module):\n",
    "  def __init__(self, in_features, out_features):\n",
    "    super(GCNLayer, self).__init__()\n",
    "    self.Linear = nn.Linear(in_features, out_features)\n",
    "\n",
    "  def forward(self, graph, inputs):\n",
    "    graph.ndata[\"h\"] = inputs\n",
    "\n",
    "    graph.send(graph.edges(), message)\n",
    "    graph.recv(graph.nodes(), reduceg)\n",
    "\n",
    "    h = graph.ndata.pop(\"h\")\n",
    "\n",
    "    return self.Linear(h)"
   ]
  },
  {
   "cell_type": "code",
   "execution_count": 27,
   "metadata": {
    "executionInfo": {
     "elapsed": 33730,
     "status": "ok",
     "timestamp": 1618386770716,
     "user": {
      "displayName": "Sarthak Rastogi",
      "photoUrl": "https://lh3.googleusercontent.com/a-/AOh14Gju2mNh-CIUs6e_EgYdv7eWpyCq5RUtF0XfW0PgJUM=s64",
      "userId": "13011506269675720653"
     },
     "user_tz": -330
    },
    "id": "pfqhpF7fin7f"
   },
   "outputs": [],
   "source": [
    "class GCN(nn.Module):\n",
    "  def __init__(self, in_features, hidden_size, num_classes):\n",
    "    super(GCN, self).__init__()\n",
    "\n",
    "    self.gcn1 = GCNLayer(in_features, hidden_size)\n",
    "    self.gcn2 = GCNLayer(hidden_size, num_classes)\n",
    "    self.softmax = nn.Softmax()\n",
    "\n",
    "  def forward(self, graph, inputs):\n",
    "    h = self.gcn1(graph, inputs)\n",
    "    h = torch.relu(h)\n",
    "    h = self.gcn2(graph, h)\n",
    "    h = self.softmax(h)\n",
    "    return h"
   ]
  },
  {
   "cell_type": "code",
   "execution_count": 28,
   "metadata": {
    "executionInfo": {
     "elapsed": 33723,
     "status": "ok",
     "timestamp": 1618386770717,
     "user": {
      "displayName": "Sarthak Rastogi",
      "photoUrl": "https://lh3.googleusercontent.com/a-/AOh14Gju2mNh-CIUs6e_EgYdv7eWpyCq5RUtF0XfW0PgJUM=s64",
      "userId": "13011506269675720653"
     },
     "user_tz": -330
    },
    "id": "32Qg36WfjOY3"
   },
   "outputs": [],
   "source": [
    "net = GCN(4, 16, 2)"
   ]
  },
  {
   "cell_type": "code",
   "execution_count": 29,
   "metadata": {
    "executionInfo": {
     "elapsed": 33715,
     "status": "ok",
     "timestamp": 1618386770717,
     "user": {
      "displayName": "Sarthak Rastogi",
      "photoUrl": "https://lh3.googleusercontent.com/a-/AOh14Gju2mNh-CIUs6e_EgYdv7eWpyCq5RUtF0XfW0PgJUM=s64",
      "userId": "13011506269675720653"
     },
     "user_tz": -330
    },
    "id": "VH_MxvJrh0b0"
   },
   "outputs": [],
   "source": [
    "inputs = torch.tensor(X.values)\n",
    "labeled_nodes = torch.tensor(y_train[::3].index)\n",
    "labels = torch.tensor(y_train[::3].values)"
   ]
  },
  {
   "cell_type": "markdown",
   "metadata": {
    "id": "g4-T_VnLjdrE"
   },
   "source": [
    "#Compiling and training model 1"
   ]
  },
  {
   "cell_type": "code",
   "execution_count": 30,
   "metadata": {
    "colab": {
     "base_uri": "https://localhost:8080/"
    },
    "executionInfo": {
     "elapsed": 56078,
     "status": "ok",
     "timestamp": 1618386793087,
     "user": {
      "displayName": "Sarthak Rastogi",
      "photoUrl": "https://lh3.googleusercontent.com/a-/AOh14Gju2mNh-CIUs6e_EgYdv7eWpyCq5RUtF0XfW0PgJUM=s64",
      "userId": "13011506269675720653"
     },
     "user_tz": -330
    },
    "id": "AsRM6v7oh0Se",
    "outputId": "425a21e2-0c3a-49bb-e58c-c7fe3bb93951"
   },
   "outputs": [
    {
     "name": "stderr",
     "output_type": "stream",
     "text": [
      "/usr/local/lib/python3.7/dist-packages/ipykernel_launcher.py:13: UserWarning: Implicit dimension choice for softmax has been deprecated. Change the call to include dim=X as an argument.\n",
      "  del sys.path[0]\n"
     ]
    },
    {
     "name": "stdout",
     "output_type": "stream",
     "text": [
      "Epoch:  1 Loss:  0.6956616044044495\n",
      "Epoch:  2 Loss:  0.6954920887947083\n",
      "Epoch:  3 Loss:  0.6954820156097412\n"
     ]
    }
   ],
   "source": [
    "optimizer = torch.optim.Adam(net.parameters(), lr=0.05)\n",
    "preds = []\n",
    "losses = []\n",
    "\n",
    "for epoch in range(3):\n",
    "  pred = net(G1, inputs.float())\n",
    "  preds.append(pred)\n",
    "\n",
    "  loss = F.cross_entropy(pred[labeled_nodes], labels.long())\n",
    "  losses.append(loss)\n",
    "\n",
    "  optimizer.zero_grad()\n",
    "  loss.backward()\n",
    "  optimizer.step()\n",
    "\n",
    "  print(\"Epoch: \", epoch+1, \"Loss: \", loss.item())"
   ]
  },
  {
   "cell_type": "markdown",
   "metadata": {
    "id": "P7cwdIRGW2XQ"
   },
   "source": [
    "#Defining model 2"
   ]
  },
  {
   "cell_type": "code",
   "execution_count": 33,
   "metadata": {
    "executionInfo": {
     "elapsed": 961,
     "status": "ok",
     "timestamp": 1618386843471,
     "user": {
      "displayName": "Sarthak Rastogi",
      "photoUrl": "https://lh3.googleusercontent.com/a-/AOh14Gju2mNh-CIUs6e_EgYdv7eWpyCq5RUtF0XfW0PgJUM=s64",
      "userId": "13011506269675720653"
     },
     "user_tz": -330
    },
    "id": "E81o0fZHvAqU"
   },
   "outputs": [],
   "source": [
    "class GCN(nn.Module):\n",
    "  def __init__(self, in_features, hidden_size, num_classes):\n",
    "    super(GCN, self).__init__()\n",
    "\n",
    "    self.gcn1 = GCNLayer(in_features, hidden_size)\n",
    "    self.gcn2 = GCNLayer(hidden_size, hidden_size)\n",
    "    self.gcn3 = GCNLayer(hidden_size, num_classes)\n",
    "    self.softmax = nn.Softmax()\n",
    "\n",
    "  def forward(self, graph, inputs):\n",
    "    h = self.gcn1(graph, inputs)\n",
    "    h = torch.relu(h)\n",
    "    h = self.gcn2(graph, h)\n",
    "    h = torch.relu(h)\n",
    "    h = self.gcn3(graph, h)\n",
    "    h = self.softmax(h)\n",
    "    return h"
   ]
  },
  {
   "cell_type": "code",
   "execution_count": 47,
   "metadata": {
    "executionInfo": {
     "elapsed": 1121,
     "status": "ok",
     "timestamp": 1618387129731,
     "user": {
      "displayName": "Sarthak Rastogi",
      "photoUrl": "https://lh3.googleusercontent.com/a-/AOh14Gju2mNh-CIUs6e_EgYdv7eWpyCq5RUtF0XfW0PgJUM=s64",
      "userId": "13011506269675720653"
     },
     "user_tz": -330
    },
    "id": "gpEpgPMiXQ5-"
   },
   "outputs": [],
   "source": [
    "net = GCN(4, 32, 2)"
   ]
  },
  {
   "cell_type": "code",
   "execution_count": 50,
   "metadata": {
    "colab": {
     "base_uri": "https://localhost:8080/"
    },
    "executionInfo": {
     "elapsed": 36867,
     "status": "ok",
     "timestamp": 1618387227817,
     "user": {
      "displayName": "Sarthak Rastogi",
      "photoUrl": "https://lh3.googleusercontent.com/a-/AOh14Gju2mNh-CIUs6e_EgYdv7eWpyCq5RUtF0XfW0PgJUM=s64",
      "userId": "13011506269675720653"
     },
     "user_tz": -330
    },
    "id": "AjP8QSSXX5r4",
    "outputId": "78a25c8a-09a9-442c-c9a8-c236033027c0"
   },
   "outputs": [
    {
     "name": "stderr",
     "output_type": "stream",
     "text": [
      "/usr/local/lib/python3.7/dist-packages/ipykernel_launcher.py:16: UserWarning: Implicit dimension choice for softmax has been deprecated. Change the call to include dim=X as an argument.\n",
      "  app.launch_new_instance()\n"
     ]
    },
    {
     "name": "stdout",
     "output_type": "stream",
     "text": [
      "Epoch:  1 Loss:  0.696419894695282\n",
      "Epoch:  2 Loss:  0.6971690058708191\n",
      "Epoch:  3 Loss:  0.6964251399040222\n"
     ]
    }
   ],
   "source": [
    "optimizer = torch.optim.Adam(net.parameters(), lr=0.1)\n",
    "preds = []\n",
    "losses = []\n",
    "\n",
    "for epoch in range(3):\n",
    "  pred = net(G1, inputs.float())\n",
    "  preds.append(pred)\n",
    "\n",
    "  loss = F.cross_entropy(pred[labeled_nodes], labels.long())\n",
    "  losses.append(loss)\n",
    "\n",
    "  optimizer.zero_grad()\n",
    "  loss.backward()\n",
    "  optimizer.step()\n",
    "\n",
    "  print(\"Epoch: \", epoch+1, \"Loss: \", loss.item())"
   ]
  },
  {
   "cell_type": "markdown",
   "metadata": {
    "id": "sW4rI_MLZZPx"
   },
   "source": [
    "**Discuss the resulting performance of the 2 chosen architectures.**"
   ]
  },
  {
   "cell_type": "markdown",
   "metadata": {
    "id": "mb0X78J1ZeAa"
   },
   "source": [
    "The first architecture is a shallower GCN with a lower hidden_size. In the second architecture I experimented with increasing the hidden_size hyperparameter and found that it leads to a higher loss, which can be attributed to overfitting. The presence of only four features also indicates that our feature map may not be strong enough to make higher quality predictions/"
   ]
  },
  {
   "cell_type": "code",
   "execution_count": null,
   "metadata": {
    "id": "Ufd3cIaXX7sD"
   },
   "outputs": [],
   "source": []
  }
 ],
 "metadata": {
  "accelerator": "GPU",
  "colab": {
   "authorship_tag": "ABX9TyMvTKmXm0MM4ZwQ86/fwfGB",
   "collapsed_sections": [],
   "mount_file_id": "11vRmhkze4JjaM4vnxKoWicFQ6KuKsuca",
   "name": "Jets as Graphs.ipynb",
   "provenance": []
  },
  "kernelspec": {
   "display_name": "Python 3",
   "language": "python",
   "name": "python3"
  },
  "language_info": {
   "codemirror_mode": {
    "name": "ipython",
    "version": 3
   },
   "file_extension": ".py",
   "mimetype": "text/x-python",
   "name": "python",
   "nbconvert_exporter": "python",
   "pygments_lexer": "ipython3",
   "version": "3.8.5"
  }
 },
 "nbformat": 4,
 "nbformat_minor": 1
}
