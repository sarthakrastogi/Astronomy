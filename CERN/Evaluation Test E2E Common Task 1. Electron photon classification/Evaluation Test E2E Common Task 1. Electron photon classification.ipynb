{
 "cells": [
  {
   "cell_type": "markdown",
   "metadata": {
    "id": "sqg1pJ7VOD9R"
   },
   "source": [
    "Evaluation Test: E2E\n",
    "\n",
    "Common Task 1. Electron/photon classification\n",
    "\n",
    "Submitted by Sarthak Rastogi (thesarthakrastogi@gmail.com)\n",
    "\n",
    "To ML4SCI, CERN"
   ]
  },
  {
   "cell_type": "markdown",
   "metadata": {
    "id": "rU0sjyoBOD9s"
   },
   "source": [
    "#Importing and Examining data"
   ]
  },
  {
   "cell_type": "code",
   "execution_count": 1,
   "metadata": {
    "ExecuteTime": {
     "end_time": "2021-04-13T17:45:25.290138Z",
     "start_time": "2021-04-13T17:45:24.623474Z"
    },
    "executionInfo": {
     "elapsed": 1387,
     "status": "ok",
     "timestamp": 1618335270883,
     "user": {
      "displayName": "Sarthak Rastogi",
      "photoUrl": "https://lh3.googleusercontent.com/a-/AOh14Gju2mNh-CIUs6e_EgYdv7eWpyCq5RUtF0XfW0PgJUM=s64",
      "userId": "13011506269675720653"
     },
     "user_tz": -330
    },
    "id": "-S_PMo_VOD9t"
   },
   "outputs": [],
   "source": [
    "import h5py\n",
    "electron_data = h5py.File('SingleElectronPt50_IMGCROPS_n249k_RHv1.hdf5', 'r')\n",
    "photon_data = h5py.File('SinglePhotonPt50_IMGCROPS_n249k_RHv1.hdf5', 'r')"
   ]
  },
  {
   "cell_type": "code",
   "execution_count": 2,
   "metadata": {
    "ExecuteTime": {
     "end_time": "2021-04-13T17:45:25.322040Z",
     "start_time": "2021-04-13T17:45:25.293090Z"
    },
    "colab": {
     "base_uri": "https://localhost:8080/"
    },
    "executionInfo": {
     "elapsed": 926,
     "status": "ok",
     "timestamp": 1618335270884,
     "user": {
      "displayName": "Sarthak Rastogi",
      "photoUrl": "https://lh3.googleusercontent.com/a-/AOh14Gju2mNh-CIUs6e_EgYdv7eWpyCq5RUtF0XfW0PgJUM=s64",
      "userId": "13011506269675720653"
     },
     "user_tz": -330
    },
    "id": "YYwij0bxOD9u",
    "outputId": "e6f96429-b093-45b1-ecc5-66da28b15575"
   },
   "outputs": [
    {
     "data": {
      "text/plain": [
       "<KeysViewHDF5 ['X', 'y']>"
      ]
     },
     "execution_count": 2,
     "metadata": {},
     "output_type": "execute_result"
    }
   ],
   "source": [
    "electron_data.keys()"
   ]
  },
  {
   "cell_type": "code",
   "execution_count": 3,
   "metadata": {
    "ExecuteTime": {
     "end_time": "2021-04-13T17:45:25.337967Z",
     "start_time": "2021-04-13T17:45:25.325001Z"
    },
    "colab": {
     "base_uri": "https://localhost:8080/"
    },
    "executionInfo": {
     "elapsed": 2097,
     "status": "ok",
     "timestamp": 1618335272921,
     "user": {
      "displayName": "Sarthak Rastogi",
      "photoUrl": "https://lh3.googleusercontent.com/a-/AOh14Gju2mNh-CIUs6e_EgYdv7eWpyCq5RUtF0XfW0PgJUM=s64",
      "userId": "13011506269675720653"
     },
     "user_tz": -330
    },
    "id": "PeHp38p6OD91",
    "outputId": "d29d327f-6507-4d46-8362-269cbafe7c3b"
   },
   "outputs": [
    {
     "data": {
      "text/plain": [
       "<HDF5 dataset \"X\": shape (249000, 32, 32, 2), type \"<f4\">"
      ]
     },
     "execution_count": 3,
     "metadata": {},
     "output_type": "execute_result"
    }
   ],
   "source": [
    "electron_data['X']"
   ]
  },
  {
   "cell_type": "markdown",
   "metadata": {
    "id": "RzYH9bNuOD93"
   },
   "source": [
    "The key X seems to contain 249000 data samples, each a matrix of size 32 x 32, containing two channel values, hit energy and time."
   ]
  },
  {
   "cell_type": "code",
   "execution_count": 4,
   "metadata": {
    "ExecuteTime": {
     "end_time": "2021-04-13T17:45:25.352961Z",
     "start_time": "2021-04-13T17:45:25.341958Z"
    },
    "colab": {
     "base_uri": "https://localhost:8080/"
    },
    "executionInfo": {
     "elapsed": 1749,
     "status": "ok",
     "timestamp": 1618335272921,
     "user": {
      "displayName": "Sarthak Rastogi",
      "photoUrl": "https://lh3.googleusercontent.com/a-/AOh14Gju2mNh-CIUs6e_EgYdv7eWpyCq5RUtF0XfW0PgJUM=s64",
      "userId": "13011506269675720653"
     },
     "user_tz": -330
    },
    "id": "pCbkehmVOD9-",
    "outputId": "cdee07c5-0ab3-4f1e-9570-7e5b14e58d61"
   },
   "outputs": [
    {
     "data": {
      "text/plain": [
       "<HDF5 dataset \"y\": shape (249000,), type \"<f4\">"
      ]
     },
     "execution_count": 4,
     "metadata": {},
     "output_type": "execute_result"
    }
   ],
   "source": [
    "electron_data['y']"
   ]
  },
  {
   "cell_type": "markdown",
   "metadata": {
    "id": "byD8MLYROD-B"
   },
   "source": [
    "The key y has the labels for these 249000 matrices."
   ]
  },
  {
   "cell_type": "code",
   "execution_count": 5,
   "metadata": {
    "ExecuteTime": {
     "end_time": "2021-04-13T17:45:30.381376Z",
     "start_time": "2021-04-13T17:45:25.355920Z"
    },
    "executionInfo": {
     "elapsed": 6769,
     "status": "ok",
     "timestamp": 1618335278165,
     "user": {
      "displayName": "Sarthak Rastogi",
      "photoUrl": "https://lh3.googleusercontent.com/a-/AOh14Gju2mNh-CIUs6e_EgYdv7eWpyCq5RUtF0XfW0PgJUM=s64",
      "userId": "13011506269675720653"
     },
     "user_tz": -330
    },
    "id": "Q-OCIIfTOD-C"
   },
   "outputs": [],
   "source": [
    "input_elec = electron_data['X'][...]\n",
    "label_elec = electron_data['y'][...]"
   ]
  },
  {
   "cell_type": "code",
   "execution_count": 6,
   "metadata": {
    "ExecuteTime": {
     "end_time": "2021-04-13T17:45:34.960588Z",
     "start_time": "2021-04-13T17:45:30.383372Z"
    },
    "executionInfo": {
     "elapsed": 11957,
     "status": "ok",
     "timestamp": 1618335283497,
     "user": {
      "displayName": "Sarthak Rastogi",
      "photoUrl": "https://lh3.googleusercontent.com/a-/AOh14Gju2mNh-CIUs6e_EgYdv7eWpyCq5RUtF0XfW0PgJUM=s64",
      "userId": "13011506269675720653"
     },
     "user_tz": -330
    },
    "id": "nUiWK5DjOD-M"
   },
   "outputs": [],
   "source": [
    "input_phot = photon_data['X'][...]\n",
    "label_phot = photon_data['y'][...]"
   ]
  },
  {
   "cell_type": "markdown",
   "metadata": {
    "id": "t5ZLU_PJOD-S"
   },
   "source": [
    "Closing the files"
   ]
  },
  {
   "cell_type": "code",
   "execution_count": 7,
   "metadata": {
    "ExecuteTime": {
     "end_time": "2021-04-13T17:45:34.976545Z",
     "start_time": "2021-04-13T17:45:34.964577Z"
    },
    "executionInfo": {
     "elapsed": 10723,
     "status": "ok",
     "timestamp": 1618335283504,
     "user": {
      "displayName": "Sarthak Rastogi",
      "photoUrl": "https://lh3.googleusercontent.com/a-/AOh14Gju2mNh-CIUs6e_EgYdv7eWpyCq5RUtF0XfW0PgJUM=s64",
      "userId": "13011506269675720653"
     },
     "user_tz": -330
    },
    "id": "DlCCnVEpOD-S"
   },
   "outputs": [],
   "source": [
    "electron_data.close()\n",
    "photon_data.close()"
   ]
  },
  {
   "cell_type": "markdown",
   "metadata": {
    "id": "kqY0oeyPOD-T"
   },
   "source": [
    "#Combining the Electron and Photon data in unision to make our dataset."
   ]
  },
  {
   "cell_type": "code",
   "execution_count": 8,
   "metadata": {
    "ExecuteTime": {
     "end_time": "2021-04-13T17:45:48.656979Z",
     "start_time": "2021-04-13T17:45:34.980535Z"
    },
    "colab": {
     "base_uri": "https://localhost:8080/"
    },
    "executionInfo": {
     "elapsed": 11684,
     "status": "ok",
     "timestamp": 1618335284938,
     "user": {
      "displayName": "Sarthak Rastogi",
      "photoUrl": "https://lh3.googleusercontent.com/a-/AOh14Gju2mNh-CIUs6e_EgYdv7eWpyCq5RUtF0XfW0PgJUM=s64",
      "userId": "13011506269675720653"
     },
     "user_tz": -330
    },
    "id": "aCVIPGqFOD-T",
    "outputId": "1d213523-8b57-431f-f96c-2369e3c21d67"
   },
   "outputs": [
    {
     "data": {
      "text/plain": [
       "(498000, 32, 32, 2)"
      ]
     },
     "execution_count": 8,
     "metadata": {},
     "output_type": "execute_result"
    }
   ],
   "source": [
    "import numpy as np\n",
    "input_df = np.concatenate((input_elec, input_phot))\n",
    "input_df.shape"
   ]
  },
  {
   "cell_type": "code",
   "execution_count": 9,
   "metadata": {
    "ExecuteTime": {
     "end_time": "2021-04-13T17:45:48.720808Z",
     "start_time": "2021-04-13T17:45:48.669944Z"
    },
    "colab": {
     "base_uri": "https://localhost:8080/"
    },
    "executionInfo": {
     "elapsed": 11389,
     "status": "ok",
     "timestamp": 1618335284940,
     "user": {
      "displayName": "Sarthak Rastogi",
      "photoUrl": "https://lh3.googleusercontent.com/a-/AOh14Gju2mNh-CIUs6e_EgYdv7eWpyCq5RUtF0XfW0PgJUM=s64",
      "userId": "13011506269675720653"
     },
     "user_tz": -330
    },
    "id": "z8xx9aPsOD-U",
    "outputId": "72d3f3a8-f38c-4a5e-b0c3-6641b0178a53"
   },
   "outputs": [
    {
     "data": {
      "text/plain": [
       "(498000,)"
      ]
     },
     "execution_count": 9,
     "metadata": {},
     "output_type": "execute_result"
    }
   ],
   "source": [
    "label_df = np.concatenate((label_elec, label_phot))\n",
    "label_df.shape"
   ]
  },
  {
   "cell_type": "markdown",
   "metadata": {
    "id": "lFLto_7AOD-U"
   },
   "source": [
    "Our dataset is composed of 249,000 Electron samples followed by 249,000 Photon samples. It's important to shuffle the data, especially so that we don't get mini-batches of highly correlated data. This will help prevent bias."
   ]
  },
  {
   "cell_type": "markdown",
   "metadata": {
    "id": "f0s6nB8gOD-U"
   },
   "source": [
    "However, since we're shuffling both the inputs and the labels, it's important to shuffle them in the same order."
   ]
  },
  {
   "cell_type": "code",
   "execution_count": 10,
   "metadata": {
    "ExecuteTime": {
     "end_time": "2021-04-13T17:46:02.198833Z",
     "start_time": "2021-04-13T17:45:48.723801Z"
    },
    "id": "GHvNwU2YOD-V"
   },
   "outputs": [],
   "source": [
    "import sklearn\n",
    "input_df, label_df = sklearn.utils.shuffle(input_df, label_df)"
   ]
  },
  {
   "cell_type": "markdown",
   "metadata": {
    "id": "ZPX6LZEzOD-W"
   },
   "source": [
    "#Splitting into train and test sets"
   ]
  },
  {
   "cell_type": "code",
   "execution_count": 11,
   "metadata": {
    "ExecuteTime": {
     "end_time": "2021-04-13T17:46:02.242763Z",
     "start_time": "2021-04-13T17:46:02.210014Z"
    },
    "id": "Eq6zuBZVOD-W"
   },
   "outputs": [
    {
     "name": "stdout",
     "output_type": "stream",
     "text": [
      "(398400, 32, 32, 2)\n",
      "(99600, 32, 32, 2)\n"
     ]
    }
   ],
   "source": [
    "split_horizontally_idx = int(input_df.shape[0]* 0.8)\n",
    "\n",
    "input_df_train = input_df[:split_horizontally_idx , :]\n",
    "print(input_df_train.shape)\n",
    "\n",
    "input_df_test = input_df[split_horizontally_idx: , :]\n",
    "print(input_df_test.shape)"
   ]
  },
  {
   "cell_type": "code",
   "execution_count": 12,
   "metadata": {
    "ExecuteTime": {
     "end_time": "2021-04-13T17:46:02.258719Z",
     "start_time": "2021-04-13T17:46:02.245754Z"
    },
    "id": "UAeShJLcOD-X"
   },
   "outputs": [
    {
     "name": "stdout",
     "output_type": "stream",
     "text": [
      "(398400,)\n",
      "(99600,)\n"
     ]
    }
   ],
   "source": [
    "split_horizontally_idx = int(label_df.shape[0]* 0.8)\n",
    "\n",
    "label_df_train = label_df[:split_horizontally_idx]\n",
    "print(label_df_train.shape)\n",
    "\n",
    "label_df_test = label_df[split_horizontally_idx:]\n",
    "print(label_df_test.shape)"
   ]
  },
  {
   "cell_type": "code",
   "execution_count": 13,
   "metadata": {
    "ExecuteTime": {
     "end_time": "2021-04-13T17:46:02.274676Z",
     "start_time": "2021-04-13T17:46:02.263706Z"
    },
    "id": "HEXjTkVHOD-Y"
   },
   "outputs": [],
   "source": [
    "input_df_train = input_df_train.reshape((len(input_df_train), 32, 32, 2))\n",
    "input_df_test = input_df_test.reshape((len(input_df_test), 32, 32, 2))"
   ]
  },
  {
   "cell_type": "markdown",
   "metadata": {
    "id": "47uRmv3POD-Z"
   },
   "source": [
    "#1. TensorFlow Keras implementation"
   ]
  },
  {
   "cell_type": "code",
   "execution_count": 14,
   "metadata": {
    "ExecuteTime": {
     "end_time": "2021-04-13T17:46:10.685369Z",
     "start_time": "2021-04-13T17:46:02.278666Z"
    },
    "id": "q-ZrqnpOOD-Z"
   },
   "outputs": [],
   "source": [
    "import tensorflow as tf\n",
    "from tensorflow import keras\n",
    "from tensorflow.keras.models import Sequential, Model\n",
    "from tensorflow.keras.layers import Dense, Conv2D, Flatten, MaxPooling2D, BatchNormalization, Dropout, Input"
   ]
  },
  {
   "cell_type": "code",
   "execution_count": 15,
   "metadata": {
    "ExecuteTime": {
     "end_time": "2021-04-13T17:46:10.987789Z",
     "start_time": "2021-04-13T17:46:10.688363Z"
    },
    "id": "AAWzJorHOD-a"
   },
   "outputs": [],
   "source": [
    "model_tf_cnn = Sequential([\n",
    "    Conv2D(32, (3,3), activation='relu', input_shape=(32, 32, 2)),\n",
    "    BatchNormalization(),\n",
    "    MaxPooling2D(2,2),\n",
    "    \n",
    "    Conv2D(64, (3,3), activation='relu'),\n",
    "    BatchNormalization(),\n",
    "    MaxPooling2D(2,2),  \n",
    "    \n",
    "    Conv2D(64, (3,3), activation='relu'),\n",
    "    BatchNormalization(),\n",
    "    MaxPooling2D(2,2),    \n",
    "\n",
    "    Flatten(),\n",
    "    \n",
    "    Dense(128, activation='relu'),\n",
    "    Dropout(0.50),\n",
    "    \n",
    "    Dense(128, activation='relu'),\n",
    "    \n",
    "    Dense(2, activation='sigmoid')\n",
    "])"
   ]
  },
  {
   "cell_type": "code",
   "execution_count": 16,
   "metadata": {
    "ExecuteTime": {
     "end_time": "2021-04-13T17:46:11.003500Z",
     "start_time": "2021-04-13T17:46:10.990530Z"
    },
    "id": "gr5Gxv1COD-b",
    "outputId": "fef8cbcb-e4f9-45f5-bf14-3e2af7c31228"
   },
   "outputs": [
    {
     "name": "stdout",
     "output_type": "stream",
     "text": [
      "Model: \"sequential\"\n",
      "_________________________________________________________________\n",
      "Layer (type)                 Output Shape              Param #   \n",
      "=================================================================\n",
      "conv2d (Conv2D)              (None, 30, 30, 32)        608       \n",
      "_________________________________________________________________\n",
      "batch_normalization (BatchNo (None, 30, 30, 32)        128       \n",
      "_________________________________________________________________\n",
      "max_pooling2d (MaxPooling2D) (None, 15, 15, 32)        0         \n",
      "_________________________________________________________________\n",
      "conv2d_1 (Conv2D)            (None, 13, 13, 64)        18496     \n",
      "_________________________________________________________________\n",
      "batch_normalization_1 (Batch (None, 13, 13, 64)        256       \n",
      "_________________________________________________________________\n",
      "max_pooling2d_1 (MaxPooling2 (None, 6, 6, 64)          0         \n",
      "_________________________________________________________________\n",
      "conv2d_2 (Conv2D)            (None, 4, 4, 64)          36928     \n",
      "_________________________________________________________________\n",
      "batch_normalization_2 (Batch (None, 4, 4, 64)          256       \n",
      "_________________________________________________________________\n",
      "max_pooling2d_2 (MaxPooling2 (None, 2, 2, 64)          0         \n",
      "_________________________________________________________________\n",
      "flatten (Flatten)            (None, 256)               0         \n",
      "_________________________________________________________________\n",
      "dense (Dense)                (None, 128)               32896     \n",
      "_________________________________________________________________\n",
      "dropout (Dropout)            (None, 128)               0         \n",
      "_________________________________________________________________\n",
      "dense_1 (Dense)              (None, 128)               16512     \n",
      "_________________________________________________________________\n",
      "dense_2 (Dense)              (None, 2)                 258       \n",
      "=================================================================\n",
      "Total params: 106,338\n",
      "Trainable params: 106,018\n",
      "Non-trainable params: 320\n",
      "_________________________________________________________________\n"
     ]
    }
   ],
   "source": [
    "model_tf_cnn.summary()"
   ]
  },
  {
   "cell_type": "code",
   "execution_count": 17,
   "metadata": {
    "ExecuteTime": {
     "end_time": "2021-04-13T17:46:11.067325Z",
     "start_time": "2021-04-13T17:46:11.006488Z"
    },
    "id": "Fm-kICalOD-c"
   },
   "outputs": [],
   "source": [
    "model_tf_cnn.compile(optimizer='adam', loss='sparse_categorical_crossentropy', metrics=['accuracy'])"
   ]
  },
  {
   "cell_type": "code",
   "execution_count": 18,
   "metadata": {
    "ExecuteTime": {
     "end_time": "2021-04-13T19:02:22.678864Z",
     "start_time": "2021-04-13T17:46:11.069222Z"
    },
    "id": "Dshh7LrZOD-c",
    "outputId": "f54b05bc-a45f-412e-ac3c-ec01429eb0bb",
    "scrolled": true
   },
   "outputs": [
    {
     "name": "stdout",
     "output_type": "stream",
     "text": [
      "Epoch 1/5\n",
      "7782/7782 [==============================] - 783s 100ms/step - loss: 0.6629 - accuracy: 0.6039\n",
      "Epoch 2/5\n",
      "7782/7782 [==============================] - 768s 99ms/step - loss: 0.5950 - accuracy: 0.6922\n",
      "Epoch 3/5\n",
      "7782/7782 [==============================] - 728s 93ms/step - loss: 0.5781 - accuracy: 0.7082\n",
      "Epoch 4/5\n",
      "7782/7782 [==============================] - 1515s 195ms/step - loss: 0.5693 - accuracy: 0.7149\n",
      "Epoch 5/5\n",
      "7782/7782 [==============================] - 777s 100ms/step - loss: 0.5648 - accuracy: 0.7169\n"
     ]
    }
   ],
   "source": [
    "history = model_tf_cnn.fit(input_df, label_df, batch_size = 64, epochs = 5, verbose=1)"
   ]
  },
  {
   "cell_type": "code",
   "execution_count": 19,
   "metadata": {
    "ExecuteTime": {
     "end_time": "2021-04-13T19:02:22.825725Z",
     "start_time": "2021-04-13T19:02:22.720839Z"
    },
    "id": "WrLy9Ld-OD-d",
    "outputId": "ed6df4c4-a1a6-41a2-eab8-1e2fddafdd2c"
   },
   "outputs": [
    {
     "data": {
      "text/plain": [
       "dict_keys(['loss', 'accuracy'])"
      ]
     },
     "execution_count": 19,
     "metadata": {},
     "output_type": "execute_result"
    }
   ],
   "source": [
    "history.history.keys()"
   ]
  },
  {
   "cell_type": "code",
   "execution_count": 20,
   "metadata": {
    "ExecuteTime": {
     "end_time": "2021-04-13T19:02:25.598944Z",
     "start_time": "2021-04-13T19:02:22.831709Z"
    },
    "id": "Bo7qkwZvOD-f",
    "outputId": "101234ed-253a-4757-b44e-f2e5faf52668",
    "scrolled": true
   },
   "outputs": [
    {
     "data": {
      "image/png": "[encoded data removed]",
      "text/plain": [
       "<Figure size 432x288 with 1 Axes>"
      ]
     },
     "metadata": {
      "needs_background": "light"
     },
     "output_type": "display_data"
    }
   ],
   "source": [
    "import matplotlib.pyplot as plt\n",
    "%matplotlib inline\n",
    "plt.plot(history.history['accuracy'])\n",
    "plt.title('Model Accuracy')\n",
    "plt.ylabel('Accuracy')\n",
    "plt.xlabel('Epochs')\n",
    "plt.show()"
   ]
  },
  {
   "cell_type": "code",
   "execution_count": 21,
   "metadata": {
    "ExecuteTime": {
     "end_time": "2021-04-13T19:02:25.820316Z",
     "start_time": "2021-04-13T19:02:25.600912Z"
    },
    "id": "aWutJeykOD-g",
    "outputId": "038c9e2a-a6fc-407f-e812-fab3eed4d1ca"
   },
   "outputs": [
    {
     "data": {
      "image/png": "[encoded data removed]",
      "text/plain": [
       "<Figure size 432x288 with 1 Axes>"
      ]
     },
     "metadata": {
      "needs_background": "light"
     },
     "output_type": "display_data"
    }
   ],
   "source": [
    "plt.plot(history.history['loss'])\n",
    "plt.title('Loss')\n",
    "plt.ylabel('Loss')\n",
    "plt.xlabel('Epochs')\n",
    "plt.show()"
   ]
  },
  {
   "cell_type": "markdown",
   "metadata": {
    "id": "vdor8L_WOD-h"
   },
   "source": [
    "#2. PyTorch implementation"
   ]
  },
  {
   "cell_type": "code",
   "execution_count": 22,
   "metadata": {
    "ExecuteTime": {
     "end_time": "2021-04-13T19:02:31.044861Z",
     "start_time": "2021-04-13T19:02:25.826333Z"
    },
    "id": "BhIKxVT1OD-j"
   },
   "outputs": [],
   "source": [
    "from torchvision import datasets, transforms\n",
    "import torch\n",
    "from torch import nn, optim\n",
    "from torch.nn import functional as F"
   ]
  },
  {
   "cell_type": "code",
   "execution_count": 23,
   "metadata": {
    "ExecuteTime": {
     "end_time": "2021-04-13T19:02:31.075778Z",
     "start_time": "2021-04-13T19:02:31.049848Z"
    },
    "id": "NUezAfRVOD-k"
   },
   "outputs": [],
   "source": [
    "input_df_train = torch.Tensor(input_df_train)\n",
    "input_df_test = torch.Tensor(input_df_test)"
   ]
  },
  {
   "cell_type": "code",
   "execution_count": 24,
   "metadata": {
    "ExecuteTime": {
     "end_time": "2021-04-13T19:02:31.106696Z",
     "start_time": "2021-04-13T19:02:31.079769Z"
    },
    "id": "DN01yIOsOD-k"
   },
   "outputs": [],
   "source": [
    "input_df_train = input_df_train.permute(0, 3, 1, 2)\n",
    "input_df_test = input_df_test.permute(0, 3, 1, 2)"
   ]
  },
  {
   "cell_type": "code",
   "execution_count": 25,
   "metadata": {
    "ExecuteTime": {
     "end_time": "2021-04-13T19:02:31.154568Z",
     "start_time": "2021-04-13T19:02:31.109689Z"
    },
    "id": "hZlbjr5BOD-l"
   },
   "outputs": [],
   "source": [
    "label_df_train = torch.tensor(label_df_train, dtype=torch.long)\n",
    "label_df_test = torch.tensor(label_df_test, dtype=torch.long)"
   ]
  },
  {
   "cell_type": "code",
   "execution_count": 26,
   "metadata": {
    "ExecuteTime": {
     "end_time": "2021-04-13T19:02:37.834704Z",
     "start_time": "2021-04-13T19:02:31.158557Z"
    },
    "id": "HQpcb5gvOD-l",
    "outputId": "2476517f-b494-49e9-ce8b-de3cb76d8c8b"
   },
   "outputs": [],
   "source": [
    "train_data = []\n",
    "for i in range(len(input_df_train)):\n",
    "    train_data.append([input_df_train[i], label_df_train[i]])\n",
    "\n",
    "train_loader = torch.utils.data.DataLoader(train_data, shuffle=True, batch_size=64)"
   ]
  },
  {
   "cell_type": "code",
   "execution_count": 27,
   "metadata": {
    "ExecuteTime": {
     "end_time": "2021-04-13T19:02:39.077632Z",
     "start_time": "2021-04-13T19:02:37.837693Z"
    },
    "id": "xLbRmR-dOD-n",
    "outputId": "eaf39663-2968-47e4-d74a-a4b4c891c8af"
   },
   "outputs": [],
   "source": [
    "test_data = []\n",
    "for i in range(len(input_df_test)):\n",
    "    test_data.append([input_df_test[i], label_df_test[i]])\n",
    "\n",
    "test_loader = torch.utils.data.DataLoader(test_data, shuffle=True, batch_size=64)"
   ]
  },
  {
   "cell_type": "code",
   "execution_count": 29,
   "metadata": {
    "ExecuteTime": {
     "end_time": "2021-04-13T19:15:18.795006Z",
     "start_time": "2021-04-13T19:15:18.693281Z"
    },
    "id": "449c-72aOD-o"
   },
   "outputs": [
    {
     "name": "stdout",
     "output_type": "stream",
     "text": [
      "torch.Size([64, 2, 32, 32])\n",
      "torch.Size([64])\n"
     ]
    }
   ],
   "source": [
    "dataiter = iter(train_loader)\n",
    "images, labels = dataiter.next()\n",
    "print(images.shape)\n",
    "print(labels.shape)"
   ]
  },
  {
   "cell_type": "code",
   "execution_count": 30,
   "metadata": {
    "ExecuteTime": {
     "end_time": "2021-04-13T19:15:19.899147Z",
     "start_time": "2021-04-13T19:15:19.866235Z"
    },
    "id": "5TI-r4u1OD-s"
   },
   "outputs": [],
   "source": [
    "class Net(nn.Module):\n",
    "    def __init__(self):\n",
    "        super(Net, self).__init__()\n",
    "        self.cnn_layers = nn.Sequential(\n",
    "            nn.Conv2d(2, 6, kernel_size=3, stride=1, padding=1),\n",
    "            nn.BatchNorm2d(6),\n",
    "            nn.ReLU(inplace=True),\n",
    "            nn.MaxPool2d(kernel_size=2, stride=1),\n",
    "            \n",
    "            nn.Conv2d(6, 12, kernel_size=3, stride=1, padding=1),\n",
    "            nn.BatchNorm2d(12),\n",
    "            nn.ReLU(inplace=True),\n",
    "            nn.MaxPool2d(kernel_size=2, stride=1),\n",
    "        )\n",
    "        \n",
    "        self.linear_layers = nn.Sequential(\n",
    "            nn.Flatten(),\n",
    "            nn.Linear(10800, 2)\n",
    "        )\n",
    "        \n",
    "    def forward(self, x):\n",
    "        x = self.cnn_layers(x)\n",
    "        x = x.view(x.size(0), -1)\n",
    "        x = self.linear_layers(x)\n",
    "        return x"
   ]
  },
  {
   "cell_type": "code",
   "execution_count": 31,
   "metadata": {
    "ExecuteTime": {
     "end_time": "2021-04-13T19:15:21.477534Z",
     "start_time": "2021-04-13T19:15:21.428638Z"
    },
    "id": "3BE-hsFrOD-v",
    "outputId": "12c3c949-49a4-4620-addc-5448b840f18a"
   },
   "outputs": [
    {
     "name": "stdout",
     "output_type": "stream",
     "text": [
      "Net(\n",
      "  (cnn_layers): Sequential(\n",
      "    (0): Conv2d(2, 6, kernel_size=(3, 3), stride=(1, 1), padding=(1, 1))\n",
      "    (1): BatchNorm2d(6, eps=1e-05, momentum=0.1, affine=True, track_running_stats=True)\n",
      "    (2): ReLU(inplace=True)\n",
      "    (3): MaxPool2d(kernel_size=2, stride=1, padding=0, dilation=1, ceil_mode=False)\n",
      "    (4): Conv2d(6, 12, kernel_size=(3, 3), stride=(1, 1), padding=(1, 1))\n",
      "    (5): BatchNorm2d(12, eps=1e-05, momentum=0.1, affine=True, track_running_stats=True)\n",
      "    (6): ReLU(inplace=True)\n",
      "    (7): MaxPool2d(kernel_size=2, stride=1, padding=0, dilation=1, ceil_mode=False)\n",
      "  )\n",
      "  (linear_layers): Sequential(\n",
      "    (0): Flatten(start_dim=1, end_dim=-1)\n",
      "    (1): Linear(in_features=10800, out_features=2, bias=True)\n",
      "  )\n",
      ")\n"
     ]
    }
   ],
   "source": [
    "model = Net()\n",
    "optimizer = optim.Adam(model.parameters(), lr = 0.01)\n",
    "criterion = nn.CrossEntropyLoss()\n",
    "print(model)"
   ]
  },
  {
   "cell_type": "code",
   "execution_count": 32,
   "metadata": {
    "ExecuteTime": {
     "end_time": "2021-04-13T19:45:22.812358Z",
     "start_time": "2021-04-13T19:15:22.287214Z"
    },
    "id": "e8ArNVNSOD-w",
    "outputId": "67a5d318-38f2-41a6-f866-7a04e57bed77"
   },
   "outputs": [
    {
     "name": "stderr",
     "output_type": "stream",
     "text": [
      "C:\\ProgramData\\Anaconda3\\lib\\site-packages\\torch\\autograd\\__init__.py:130: UserWarning: CUDA initialization: Found no NVIDIA driver on your system. Please check that you have an NVIDIA GPU and installed a driver from http://www.nvidia.com/Download/index.aspx (Triggered internally at  ..\\c10\\cuda\\CUDAFunctions.cpp:100.)\n",
      "  Variable._execution_engine.run_backward(\n"
     ]
    },
    {
     "name": "stdout",
     "output_type": "stream",
     "text": [
      "Epoch 1 - Training loss: 0.010444116997551248\n",
      "Epoch 2 - Training loss: 0.009794146230062806\n",
      "Epoch 3 - Training loss: 0.009678813351101306\n",
      "Epoch 4 - Training loss: 0.009642737553002365\n",
      "Epoch 5 - Training loss: 0.009620934797144199\n"
     ]
    }
   ],
   "source": [
    "num_epochs = 5\n",
    "loss_list = []\n",
    "for i in range(num_epochs):\n",
    "    running_loss = 0\n",
    "    for images, labels in train_loader:\n",
    "        #Training\n",
    "        optimizer.zero_grad()\n",
    "        output = model(images)\n",
    "        loss = criterion(output, labels)\n",
    "        \n",
    "        loss.backward() #Backpropagation\n",
    "        \n",
    "        optimizer.step()\n",
    "        running_loss += loss.item()\n",
    "        loss_list.append(running_loss)\n",
    "    else:\n",
    "        print(\"Epoch {} - Training loss: {}\".format(i+1, running_loss/398400)) #dividing by the number of training samples"
   ]
  },
  {
   "cell_type": "code",
   "execution_count": null,
   "metadata": {
    "id": "0n9Uef3pOD-x"
   },
   "outputs": [],
   "source": []
  },
  {
   "cell_type": "markdown",
   "metadata": {
    "id": "bVwzFiJPOD-y"
   },
   "source": [
    "Thank you for the assignment. I thoroughly enjoyed it."
   ]
  }
 ],
 "metadata": {
  "accelerator": "GPU",
  "colab": {
   "name": "Evaluation Test E2E.ipynb",
   "provenance": []
  },
  "kernelspec": {
   "display_name": "Python 3",
   "language": "python",
   "name": "python3"
  },
  "language_info": {
   "codemirror_mode": {
    "name": "ipython",
    "version": 3
   },
   "file_extension": ".py",
   "mimetype": "text/x-python",
   "name": "python",
   "nbconvert_exporter": "python",
   "pygments_lexer": "ipython3",
   "version": "3.8.5"
  }
 },
 "nbformat": 4,
 "nbformat_minor": 1
}
